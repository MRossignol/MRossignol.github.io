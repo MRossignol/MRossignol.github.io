{
 "cells": [
  {
   "cell_type": "code",
   "execution_count": 1,
   "id": "9a6ca533-3651-4f95-9f12-0a6ac4b61434",
   "metadata": {},
   "outputs": [],
   "source": [
    "values = [103, 55, 61, 77, 58, 60, 57, 64, 57, 79, 52, 39, 46, 55, 29, 40, 47, 103, 56, 118]"
   ]
  },
  {
   "cell_type": "code",
   "execution_count": 2,
   "id": "d68d13a6-2bca-4b30-8e1f-06f1770e27de",
   "metadata": {},
   "outputs": [],
   "source": [
    "import statistics;"
   ]
  },
  {
   "cell_type": "code",
   "execution_count": 3,
   "id": "bc9d9fc9-656e-4c9b-a85b-5c121195728c",
   "metadata": {},
   "outputs": [
    {
     "data": {
      "text/plain": [
       "520.5894736842105"
      ]
     },
     "execution_count": 3,
     "metadata": {},
     "output_type": "execute_result"
    }
   ],
   "source": [
    "statistics.variance(values)"
   ]
  },
  {
   "cell_type": "code",
   "execution_count": 4,
   "id": "971435ce-cc3f-4c8d-9b7d-b39625908367",
   "metadata": {},
   "outputs": [
    {
     "data": {
      "text/plain": [
       "0.05405405405405406"
      ]
     },
     "execution_count": 4,
     "metadata": {},
     "output_type": "execute_result"
    }
   ],
   "source": [
    "20/370"
   ]
  },
  {
   "cell_type": "code",
   "execution_count": 7,
   "id": "43733458-ca51-4dfd-b7b6-2f90212ca7bc",
   "metadata": {},
   "outputs": [
    {
     "data": {
      "text/plain": [
       "1256"
      ]
     },
     "execution_count": 7,
     "metadata": {},
     "output_type": "execute_result"
    }
   ],
   "source": [
    "sum(values)"
   ]
  },
  {
   "cell_type": "code",
   "execution_count": 9,
   "id": "30f63bac-626b-4158-bb8a-20abc855db6e",
   "metadata": {},
   "outputs": [
    {
     "data": {
      "text/plain": [
       "62.8"
      ]
     },
     "execution_count": 9,
     "metadata": {},
     "output_type": "execute_result"
    }
   ],
   "source": [
    "statistics.mean(values)"
   ]
  },
  {
   "cell_type": "code",
   "execution_count": 10,
   "id": "b4118038-5bca-4ab1-ab40-988e7499cb03",
   "metadata": {},
   "outputs": [
    {
     "data": {
      "text/plain": [
       "22.816429906631107"
      ]
     },
     "execution_count": 10,
     "metadata": {},
     "output_type": "execute_result"
    }
   ],
   "source": [
    "statistics.stdev(values)"
   ]
  }
 ],
 "metadata": {
  "kernelspec": {
   "display_name": "Python 3 (ipykernel)",
   "language": "python",
   "name": "python3"
  },
  "language_info": {
   "codemirror_mode": {
    "name": "ipython",
    "version": 3
   },
   "file_extension": ".py",
   "mimetype": "text/x-python",
   "name": "python",
   "nbconvert_exporter": "python",
   "pygments_lexer": "ipython3",
   "version": "3.10.4"
  }
 },
 "nbformat": 4,
 "nbformat_minor": 5
}
